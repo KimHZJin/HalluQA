{
 "cells": [
  {
   "cell_type": "code",
   "execution_count": null,
   "id": "7dc59733",
   "metadata": {},
   "outputs": [],
   "source": [
    "import json\n",
    "import os\n",
    "import pandas as pd"
   ]
  },
  {
   "cell_type": "code",
   "execution_count": null,
   "id": "05300660",
   "metadata": {},
   "outputs": [],
   "source": [
    "# Base folder is current directory\n",
    "base_dir = \".\"\n",
    "\n",
    "models = [\"gpt_4o\", \"grok_3\", \"gemini_2\"]\n",
    "corpora = [\"original_chinese_corpus\", \"human_translated_english_corpus\", \"machine_translated_english_corpus\"]\n",
    "evaluators = [\"human_evaluated\", \"machine_evaluated\"]"
   ]
  },
  {
   "cell_type": "code",
   "execution_count": 2,
   "id": "f5139ff5",
   "metadata": {},
   "outputs": [
    {
     "name": "stdout",
     "output_type": "stream",
     "text": [
      "Fixed ./original_chinese_corpus/human_evaluated/results_gpt_4o.json\n",
      "Fixed ./original_chinese_corpus/human_evaluated/results_grok_3.json\n",
      "Fixed ./original_chinese_corpus/human_evaluated/results_gemini_2.json\n",
      "Fixed ./original_chinese_corpus/machine_evaluated/results_gpt_4o.json\n",
      "Fixed ./original_chinese_corpus/machine_evaluated/results_grok_3.json\n",
      "Fixed ./original_chinese_corpus/machine_evaluated/results_gemini_2.json\n",
      "Fixed ./human_translated_english_corpus/human_evaluated/results_gpt_4o.json\n",
      "Fixed ./human_translated_english_corpus/human_evaluated/results_grok_3.json\n",
      "Fixed ./human_translated_english_corpus/human_evaluated/results_gemini_2.json\n",
      "Fixed ./human_translated_english_corpus/machine_evaluated/results_gpt_4o.json\n",
      "Fixed ./human_translated_english_corpus/machine_evaluated/results_grok_3.json\n",
      "Fixed ./human_translated_english_corpus/machine_evaluated/results_gemini_2.json\n",
      "Fixed ./machine_translated_english_corpus/human_evaluated/results_gpt_4o.json\n",
      "Fixed ./machine_translated_english_corpus/human_evaluated/results_grok_3.json\n",
      "Fixed ./machine_translated_english_corpus/human_evaluated/results_gemini_2.json\n",
      "Fixed ./machine_translated_english_corpus/machine_evaluated/results_gpt_4o.json\n",
      "Fixed ./machine_translated_english_corpus/machine_evaluated/results_grok_3.json\n",
      "Fixed ./machine_translated_english_corpus/machine_evaluated/results_gemini_2.json\n"
     ]
    }
   ],
   "source": [
    "for corpus in corpora:\n",
    "    for evaluator in evaluators:\n",
    "        for model in models:\n",
    "            file_path = os.path.join(base_dir, corpus, evaluator, f\"results_{model}.json\")\n",
    "            if not os.path.exists(file_path):\n",
    "                print(f\"File not found: {file_path}\")\n",
    "                continue\n",
    "\n",
    "            with open(file_path, 'r', encoding='utf-8') as f:\n",
    "                data = json.load(f)\n",
    "\n",
    "            # Fix is_hallucination field\n",
    "            for record in data:\n",
    "                value = record.get('is_hallucination')\n",
    "                if isinstance(value, str):\n",
    "                    value_lower = value.lower()\n",
    "                    if value_lower == \"true\":\n",
    "                        record['is_hallucination'] = True\n",
    "                    elif value_lower == \"false\":\n",
    "                        record['is_hallucination'] = False\n",
    "                    elif value == \"Invalid_Judge\":\n",
    "                        record['is_hallucination'] = True  # Treat Invalid_Judge as hallucination\n",
    "                    else:\n",
    "                        print(f\"Unknown value found: {value} at question_id {record.get('question_id')}\")\n",
    "                        # up to you to skip or keep, here we keep\n",
    "\n",
    "            # Overwrite the JSON file\n",
    "            with open(file_path, 'w', encoding='utf-8') as f:\n",
    "                json.dump(data, f, ensure_ascii=False, indent=2)\n",
    "\n",
    "            print(f\"Fixed {file_path}\")"
   ]
  },
  {
   "cell_type": "code",
   "execution_count": 7,
   "id": "21c94061",
   "metadata": {},
   "outputs": [
    {
     "name": "stdout",
     "output_type": "stream",
     "text": [
      "Model                       GPT-4o  Gemini-2  Grok-3\n",
      "Corpus                                              \n",
      "Human Translated English     56.67     74.22   70.00\n",
      "Machine Translated English   58.00     72.67   59.11\n",
      "Original Chinese             53.33     73.78   60.67\n"
     ]
    }
   ],
   "source": [
    "data = {\n",
    "    \"Corpus\": [\n",
    "        \"Original Chinese\", \"Original Chinese\", \"Original Chinese\",\n",
    "        \"Human Translated English\", \"Human Translated English\", \"Human Translated English\",\n",
    "        \"Machine Translated English\", \"Machine Translated English\", \"Machine Translated English\"\n",
    "    ],\n",
    "    \"Model\": [\n",
    "        \"GPT-4o\", \"Grok-3\", \"Gemini-2\",\n",
    "        \"GPT-4o\", \"Grok-3\", \"Gemini-2\",\n",
    "        \"GPT-4o\", \"Grok-3\", \"Gemini-2\"\n",
    "    ],\n",
    "    \"Human Evaluated Non-Hallucination Rate (%)\": [\n",
    "        53.33, 60.67, 73.78,\n",
    "        56.67, 70.00, 74.22,\n",
    "        58.00, 59.11, 72.67\n",
    "    ]\n",
    "}\n",
    "\n",
    "# Create DataFrame\n",
    "df = pd.DataFrame(data)\n",
    "\n",
    "# Pivot it\n",
    "pivot_df = df.pivot(index=\"Corpus\", columns=\"Model\", values=\"Human Evaluated Non-Hallucination Rate (%)\")\n",
    "\n",
    "# Show the pivot table\n",
    "print(pivot_df)\n",
    "\n",
    "# Optionally export\n",
    "# pivot_df.to_csv(\"human_eval_rates_pivoted.csv\")\n",
    "\n",
    "\n",
    "# Optionally export to CSV if you want to edit in Excel/Numbers\n",
    "# df.to_csv(\"human_eval_rates_table.csv\", index=False)\n"
   ]
  }
 ],
 "metadata": {
  "kernelspec": {
   "display_name": "Python (MSDS)",
   "language": "python",
   "name": "msds"
  },
  "language_info": {
   "codemirror_mode": {
    "name": "ipython",
    "version": 3
   },
   "file_extension": ".py",
   "mimetype": "text/x-python",
   "name": "python",
   "nbconvert_exporter": "python",
   "pygments_lexer": "ipython3",
   "version": "3.12.4"
  }
 },
 "nbformat": 4,
 "nbformat_minor": 5
}
