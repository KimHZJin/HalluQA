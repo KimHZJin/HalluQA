{
 "cells": [
  {
   "cell_type": "code",
   "execution_count": 7,
   "id": "447d415c",
   "metadata": {},
   "outputs": [],
   "source": [
    "# merge responses\n",
    "import json\n",
    "\n",
    "def merge_dataset_with_response(dataset_path, response_path, output_path):\n",
    "\n",
    "    with open(dataset_path, 'r', encoding='utf-8') as f:\n",
    "        dataset = json.load(f)\n",
    "\n",
    "    with open(response_path, 'r', encoding='utf-8') as f:\n",
    "        responses = json.load(f)\n",
    "\n",
    "    response_map = {item[\"question_id\"]: item[\"response\"] for item in responses}\n",
    "\n",
    "    merged_data = []\n",
    "    for item in dataset:\n",
    "        qid = item[\"question_id\"]\n",
    "        response = response_map.get(qid, \"\")\n",
    "\n",
    "        new_item = {}\n",
    "\n",
    "        new_item[\"question_id\"] = item[\"question_id\"]\n",
    "        new_item[\"Question\"] = item[\"Question\"]\n",
    "\n",
    "        new_item[\"response\"] = response\n",
    "\n",
    "        new_item[\"is_hallucination\"] = False\n",
    "\n",
    "        for key, value in item.items():\n",
    "            if key not in new_item:\n",
    "                new_item[key] = value\n",
    "\n",
    "        merged_data.append(new_item)\n",
    "\n",
    "\n",
    "    with open(output_path, 'w', encoding='utf-8') as f:\n",
    "        json.dump(merged_data, f, indent=2, ensure_ascii=False)\n",
    "\n",
    "    print(f\"Merged file saved to: {output_path}\")\n",
    "\n",
    "\n",
    "# merge_dataset_with_response(\"deepl_input_translated_sorted.json\", \"Gemini_2.0_Flash_deepl_response.json\", \"merged_for_human_eval.json\")"
   ]
  },
  {
   "cell_type": "code",
   "execution_count": null,
   "id": "4822ca5b",
   "metadata": {},
   "outputs": [
    {
     "name": "stdout",
     "output_type": "stream",
     "text": [
      "Merged file saved to: Gemini_2.0_Flash_deepl_translated_human_eval.json\n"
     ]
    }
   ],
   "source": [
    "merge_dataset_with_response(\"../deepl_input_translated_sorted.json\", \"human_eval/responses/Gemini_2.0_Flash_deepl_response.json\", \"Gemini_2.0_Flash_deepl_translated_human_eval.json\")"
   ]
  },
  {
   "cell_type": "code",
   "execution_count": null,
   "id": "124f25dd",
   "metadata": {},
   "outputs": [
    {
     "name": "stdout",
     "output_type": "stream",
     "text": [
      "Merged file saved to: Gemini_2.0_Flash_CN_human_eval.json\n"
     ]
    }
   ],
   "source": [
    "merge_dataset_with_response(\"../HalluQA.json\", \"responses/Gemini_2.0_Flash_response.json\", \"human_eval/Gemini_2.0_Flash_CN_human_eval.json\")"
   ]
  },
  {
   "cell_type": "code",
   "execution_count": null,
   "id": "4de30b26",
   "metadata": {},
   "outputs": [
    {
     "name": "stdout",
     "output_type": "stream",
     "text": [
      "Merged file saved to: Gemini_2.0_Flash_EN_human_eval.json\n"
     ]
    }
   ],
   "source": [
    "merge_dataset_with_response(\"../HalluQA_EN_human.json\", \"responses/Gemini_2.0_Flash_EN_human_response.json\", \"human_eval/Gemini_2.0_Flash_EN_human_eval.json\")"
   ]
  },
  {
   "cell_type": "code",
   "execution_count": 2,
   "id": "3b49cc0d",
   "metadata": {},
   "outputs": [],
   "source": [
    "# calculate hallucination rate\n",
    "import json\n",
    "import numpy as np\n",
    "from tqdm import tqdm\n",
    "\n",
    "def calculate_hallucination_rate(json_file_path):\n",
    "\n",
    "    with open(json_file_path, 'r', encoding='utf-8') as f:\n",
    "        data = json.load(f)\n",
    "\n",
    "    total = len(data)\n",
    "    hallucinated = sum(1 for item in data if item.get(\"is_hallucination\") is True)\n",
    "\n",
    "    rate = hallucinated / total\n",
    "    print(f\"Hallucination rate: {rate:.2%} ({hallucinated}/{total})\")\n",
    "    return rate\n",
    "\n",
    "\n",
    "def bootstrap_hallucination_rate(json_file_path, n_iter=1000, ci=95, seed=42):\n",
    "    with open(json_file_path, 'r', encoding='utf-8') as f:\n",
    "        data = json.load(f)\n",
    "\n",
    "    labels = [1 if item.get(\"is_hallucination\") is True else 0 for item in data]\n",
    "    np.random.seed(seed)\n",
    "    rates = []\n",
    "\n",
    "    for _ in tqdm(range(n_iter), desc=\"Bootstrapping\"):\n",
    "        sample = np.random.choice(labels, size=len(labels), replace=True)\n",
    "        rate = np.mean(sample)\n",
    "        rates.append(rate)\n",
    "\n",
    "    lower = np.percentile(rates, (100 - ci) / 2)\n",
    "    upper = np.percentile(rates, 100 - (100 - ci) / 2)\n",
    "    mean = np.mean(rates)\n",
    "\n",
    "    print(f\"Bootstrap Hallucination Rate: {mean:.2%}\")\n",
    "    print(f\"{ci}% Confidence Interval: [{lower:.2%}, {upper:.2%}]\")\n",
    "    return mean, (lower, upper)\n"
   ]
  },
  {
   "cell_type": "code",
   "execution_count": 3,
   "id": "af9a010a",
   "metadata": {},
   "outputs": [
    {
     "name": "stdout",
     "output_type": "stream",
     "text": [
      "Hallucination rate: 26.22% (118/450)\n"
     ]
    },
    {
     "name": "stderr",
     "output_type": "stream",
     "text": [
      "Bootstrapping: 100%|██████████| 1000/1000 [00:00<00:00, 48227.58it/s]"
     ]
    },
    {
     "name": "stdout",
     "output_type": "stream",
     "text": [
      "Bootstrap Hallucination Rate: 26.28%\n",
      "95% Confidence Interval: [22.22%, 30.44%]\n"
     ]
    },
    {
     "name": "stderr",
     "output_type": "stream",
     "text": [
      "\n"
     ]
    },
    {
     "data": {
      "text/plain": [
       "(np.float64(0.2627866666666666),\n",
       " (np.float64(0.2222222222222222), np.float64(0.30444444444444446)))"
      ]
     },
     "execution_count": 3,
     "metadata": {},
     "output_type": "execute_result"
    }
   ],
   "source": [
    "calculate_hallucination_rate(\"human_eval/Gemini_2.0_Flash_CN_human_eval.json\")\n",
    "bootstrap_hallucination_rate(\"human_eval/Gemini_2.0_Flash_CN_human_eval.json\")"
   ]
  }
 ],
 "metadata": {
  "kernelspec": {
   "display_name": "truthfulqa-env",
   "language": "python",
   "name": "python3"
  },
  "language_info": {
   "codemirror_mode": {
    "name": "ipython",
    "version": 3
   },
   "file_extension": ".py",
   "mimetype": "text/x-python",
   "name": "python",
   "nbconvert_exporter": "python",
   "pygments_lexer": "ipython3",
   "version": "3.10.16"
  }
 },
 "nbformat": 4,
 "nbformat_minor": 5
}
